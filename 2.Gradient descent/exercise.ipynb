{
  "cells": [
    {
      "cell_type": "code",
      "execution_count": 1,
      "metadata": {},
      "outputs": [
        {
          "data": {
            "text/plain": [
              "'Rajaths-Air.lan'"
            ]
          },
          "execution_count": 1,
          "metadata": {},
          "output_type": "execute_result"
        }
      ],
      "source": [
        "import socket\n",
        "socket.gethostname()"
      ]
    },
    {
      "cell_type": "code",
      "execution_count": null,
      "metadata": {
        "colab": {
          "base_uri": "https://localhost:8080/"
        },
        "id": "TJOBqDJZcFeE",
        "outputId": "512886e9-c7a6-497e-ba1a-bfff11f753af"
      },
      "outputs": [],
      "source": [
        "import numpy as np\n",
        "import pandas as pd\n",
        "import math\n",
        "\n",
        "def gradient_descent(x,y):\n",
        "    m_current = b_current = 0\n",
        "    iteration = 1000000\n",
        "    n = len(x)\n",
        "    learning_rate = 0.0002\n",
        "    previous_cost = 0\n",
        "\n",
        "    for i in range(iteration):\n",
        "        y_predicted = m_current * x + b_current\n",
        "\n",
        "        md = -(2/n)*sum(x*(y-y_predicted))\n",
        "        bd = -(2/n)*sum(y-y_predicted)\n",
        "\n",
        "        cost = (1/n)*sum([val**2 for val in (y - y_predicted)])\n",
        "\n",
        "        m_current = m_current - learning_rate * md\n",
        "        b_current = b_current - learning_rate * bd\n",
        "\n",
        "        print(\"m {}, b {}, cost {},iteration {}\".format(m_current,b_current,cost,i))\n",
        "\n",
        "        if (math.isclose(previous_cost,cost,rel_tol=1e-20)):\n",
        "            return\n",
        "        previous_cost = cost\n",
        "\n",
        "\n",
        "df = pd.read_csv('https://raw.githubusercontent.com/codebasics/py/master/ML/3_gradient_descent/Exercise/test_scores.csv')\n",
        "\n",
        "x = df['math'].to_numpy()\n",
        "y = df['cs'].to_numpy()\n",
        "\n",
        "gradient_descent(x,y)"
      ]
    },
    {
      "cell_type": "markdown",
      "metadata": {
        "id": "DvehA-qzcFeG"
      },
      "source": [
        "#### Using sklearn"
      ]
    },
    {
      "cell_type": "code",
      "execution_count": null,
      "metadata": {
        "id": "2vkdiOvdcFeH"
      },
      "outputs": [],
      "source": [
        "import numpy as np\n",
        "import pandas as pd\n",
        "from sklearn import linear_model"
      ]
    },
    {
      "cell_type": "code",
      "execution_count": null,
      "metadata": {
        "id": "VxxmLpkmcFeH"
      },
      "outputs": [],
      "source": [
        "df = pd.read_csv('https://raw.githubusercontent.com/codebasics/py/master/ML/3_gradient_descent/Exercise/test_scores.csv')"
      ]
    },
    {
      "cell_type": "code",
      "execution_count": null,
      "metadata": {
        "id": "Ch_RLxv0cFeI",
        "outputId": "02a3d0a7-0b4e-40d0-b12b-7565e6f403b6"
      },
      "outputs": [
        {
          "data": {
            "text/plain": [
              "LinearRegression()"
            ]
          },
          "execution_count": 34,
          "metadata": {},
          "output_type": "execute_result"
        }
      ],
      "source": [
        "reg = linear_model.LinearRegression()\n",
        "reg.fit(df[['math']],df.cs)"
      ]
    },
    {
      "cell_type": "code",
      "execution_count": null,
      "metadata": {
        "id": "qSgzxeuYcFeI",
        "outputId": "1060aa15-f317-4f9d-dce3-9df65005ccf7"
      },
      "outputs": [
        {
          "name": "stdout",
          "output_type": "stream",
          "text": [
            "[1.01773624]\n",
            "1.9152193111569318\n"
          ]
        }
      ],
      "source": [
        "print(reg.coef_)\n",
        "print(reg.intercept_)"
      ]
    },
    {
      "cell_type": "code",
      "execution_count": null,
      "metadata": {
        "id": "wUNRDxNscFeI"
      },
      "outputs": [],
      "source": []
    }
  ],
  "metadata": {
    "colab": {
      "name": "exercise.ipynb",
      "provenance": []
    },
    "interpreter": {
      "hash": "ca683f7f89afeac42d0419d4aeddcf1bd899303d4c2542a0d453f1af4b59ff7f"
    },
    "kernelspec": {
      "display_name": "Python 3.10.0 ('ml_python')",
      "language": "python",
      "name": "python3"
    },
    "language_info": {
      "codemirror_mode": {
        "name": "ipython",
        "version": 3
      },
      "file_extension": ".py",
      "mimetype": "text/x-python",
      "name": "python",
      "nbconvert_exporter": "python",
      "pygments_lexer": "ipython3",
      "version": "3.10.0"
    },
    "orig_nbformat": 4
  },
  "nbformat": 4,
  "nbformat_minor": 0
}
